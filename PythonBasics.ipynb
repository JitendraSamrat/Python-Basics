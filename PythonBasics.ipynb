{
  "nbformat": 4,
  "nbformat_minor": 0,
  "metadata": {
    "colab": {
      "provenance": []
    },
    "kernelspec": {
      "name": "python3",
      "display_name": "Python 3"
    },
    "language_info": {
      "name": "python"
    }
  },
  "cells": [
    {
      "cell_type": "markdown",
      "source": [
        "#Python basics\n"
      ],
      "metadata": {
        "id": "cVAu3diGuU1H"
      }
    },
    {
      "cell_type": "markdown",
      "source": [
        "1.what is python,and why its popular?\n",
        "  - Python is a high-level, easy-to-learn programming language known for its simplicity and versatility. It's used in web development, data science, machine learning, automation, and more. Python's extensive libraries, readability, and cross-platform support make it popular among beginners and professionals. Its active community, open-source nature, and wide application in major companies further contribute to its growth and popularity in the tech industry.\n",
        "\n",
        "2.what is an interpreter in python?\n",
        "  - An interpreter in Python is a program that reads and executes Python code line by line. It converts each line into intermediate code and runs it immediately, making Python easier to debug and test. The default Python interpreter is CPython, the most widely used implementation.\n",
        "\n",
        "3.What are pre-defined keywords in pythons?\n",
        "  - Pre-defined keywords in Python are reserved words with special meanings, used for defining control flow, data types, and functions. Examples include if, else, for, while, import, True, False, and return.\n",
        "\n",
        "4.Can keywords be used as variable names?\n",
        "  - No, keywords cannot be used as variable names in Python because they are reserved for specific functions in the language. Using them will cause a syntax error. Examples include if, else, True, and while.\n",
        "\n",
        "5.What is mutability in python?\n",
        "  - Mutability in Python refers to whether an object can be changed after it's created. Mutable objects like lists and dictionaries can be modified, while immutable objects like strings and tuples cannot. This concept helps manage data efficiently and prevents accidental changes to objects that should remain constant.\n",
        "\n",
        "6.Why are the lists mutable,but tuples are immutable?\n",
        "  - Lists are mutable because they allow changes like adding, removing, or updating elements, making them flexible for dynamic data. Tuples are immutable to keep their data fixed and safe from changes. This makes tuples faster and useful when data must stay constant, such as keys in a dictionary.\n",
        "\n",
        "7.What are the differences between \"==\" and \"is\" operators in Python?\n",
        "  - The == operator checks if the values of two objects are the same, while the is operator checks if both objects are the exact same instance in memory. == compares content, and is compares memory addresses, meaning == can return True even if two objects are different in memory.\n",
        "\n",
        "8.What are logical operators in Python?\n",
        "  - Logical operators in Python are used to combine conditions. The three main operators are:\n",
        "   - and: Returns True if both conditions are true.\n",
        "   - or: Returns True if at least one condition is true.\n",
        "   - not: Reverses the result, returning True if the condition is false.\n",
        "\n",
        "9.What is type casting in Python?\n",
        "  - Type casting in Python is the process of converting one data type into another. There are two types:\n",
        "\n",
        "   - Implicit casting (automatic): Python automatically converts a lower\n",
        "      data type to a higher one (e.g., int to float).\n",
        "   - Explicit casting (manual): The programmer explicitly converts data\n",
        "      using functions like int(), float(), or str().\n",
        "\n",
        "10.What is the differences between implicit and explicit type casting?\n",
        "  - Implicit type casting is done automatically by Python, converting smaller data types to larger ones (e.g., int to float). Explicit type casting requires the programmer to manually convert data using functions like int(), float(), or str(). Implicit casting happens without user intervention, while explicit casting is controlled by the programmer.\n",
        "\n",
        "11.What is the puropose of conditional statement in Python?\n",
        "  - Conditional statements in Python allow the program to make decisions based on conditions. They control the flow of execution by executing specific blocks of code if certain conditions are met. The main conditional statements are if, elif, and else, enabling the program to respond differently depending on input or logical tests.\n",
        "\n",
        "12.How does the elif statement work?\n",
        "  - The elif (else if) statement in Python is used to check multiple conditions after an initial if statement. If the if condition is false, the elif condition is evaluated. If elif is true, its block of code executes. we can have multiple elif statements to check different conditions, followed by an optional else.\n",
        "\n",
        "13.What is the difference between for and while loops?\n",
        "  - A for loop iterates over a sequence (like a list or range), executing a fixed number of times. A while loop repeats as long as a specified condition is true, potentially running indefinitely. for is used for known iterations, while while is for dynamic conditions.\n",
        "\n",
        "14.Describe a scenario where a while loop is more suitable than a for loop.\n",
        "  - A while loop is more suitable when the number of iterations is not known in advance and depends on a dynamic condition. For example, when waiting for user input or checking for a certain condition to be met, a while loop continues until the condition changes.\n",
        "\n",
        "\n",
        "\n",
        "\n",
        "\n",
        "\n",
        "\n",
        "\n",
        "\n",
        "\n",
        "\n",
        "\n",
        "\n"
      ],
      "metadata": {
        "id": "hPPTuDWPubGB"
      }
    },
    {
      "cell_type": "markdown",
      "source": [
        "#Practical Question\n"
      ],
      "metadata": {
        "id": "-Q5J-pHG6EbF"
      }
    },
    {
      "cell_type": "code",
      "source": [
        "#1.Write a Python program to print \"Hello,World!\"\n",
        "\n",
        "print(\"Hello,World!\")"
      ],
      "metadata": {
        "colab": {
          "base_uri": "https://localhost:8080/"
        },
        "id": "qO5Bo2BC6MzT",
        "outputId": "be215dee-dbee-43e4-8cb1-75785c7fda2c"
      },
      "execution_count": 1,
      "outputs": [
        {
          "output_type": "stream",
          "name": "stdout",
          "text": [
            "Hello,World!\n"
          ]
        }
      ]
    },
    {
      "cell_type": "code",
      "source": [
        "#2.Write a Python that displays your name and age.\n",
        "\n",
        "name = \"Jitendra Kumar\"\n",
        "age = 22\n",
        "print(\"Name:\", name)\n",
        "print(\"Age:\", age)\n"
      ],
      "metadata": {
        "colab": {
          "base_uri": "https://localhost:8080/"
        },
        "id": "l7zrIOjM6oSR",
        "outputId": "bc592328-d9cc-44bf-a625-44277eafd2cb"
      },
      "execution_count": 3,
      "outputs": [
        {
          "output_type": "stream",
          "name": "stdout",
          "text": [
            "Name: Jitendra Kumar\n",
            "Age: 22\n"
          ]
        }
      ]
    },
    {
      "cell_type": "code",
      "source": [
        "#3.Write code to print all the pre-defined keywords in Python using the keyword library.\n",
        "\n",
        "import keyword\n",
        "print(\"Python Keywords:\", keyword.kwlist)\n"
      ],
      "metadata": {
        "colab": {
          "base_uri": "https://localhost:8080/"
        },
        "id": "7Ns0tNOl7YBx",
        "outputId": "dc6b0441-cb91-4bed-9ed9-5f8da91355f3"
      },
      "execution_count": 4,
      "outputs": [
        {
          "output_type": "stream",
          "name": "stdout",
          "text": [
            "Python Keywords: ['False', 'None', 'True', 'and', 'as', 'assert', 'async', 'await', 'break', 'class', 'continue', 'def', 'del', 'elif', 'else', 'except', 'finally', 'for', 'from', 'global', 'if', 'import', 'in', 'is', 'lambda', 'nonlocal', 'not', 'or', 'pass', 'raise', 'return', 'try', 'while', 'with', 'yield']\n"
          ]
        }
      ]
    },
    {
      "cell_type": "code",
      "source": [
        "#4.Write a program that checks if a given word is a Python keyword.\n",
        "\n",
        "import keyword\n",
        "word = input(\"Enter a word: \")\n",
        "if keyword.iskeyword(word):\n",
        "    print(f\"'{word}' is a Python keyword.\")\n",
        "else:\n",
        "    print(f\"'{word}' is not a Python keyword.\")\n"
      ],
      "metadata": {
        "colab": {
          "base_uri": "https://localhost:8080/"
        },
        "id": "NRVt8rw88f96",
        "outputId": "bba9a887-6713-4e95-8a95-8a4807f9a5d9"
      },
      "execution_count": 10,
      "outputs": [
        {
          "output_type": "stream",
          "name": "stdout",
          "text": [
            "Enter a word: True\n",
            "'True' is a Python keyword.\n"
          ]
        }
      ]
    },
    {
      "cell_type": "code",
      "source": [
        "#5.Create a list and tuple in Python, and demonstrate how attempting to change an element works differently for each.\n",
        "\n",
        "my_list = [1, 2, 3, 4]\n",
        "my_tuple = (1, 2, 3, 4)\n",
        "my_list[0] = 10\n",
        "print(\"Updated list:\", my_list)\n",
        "try:\n",
        "    my_tuple[0] = 10\n",
        "except TypeError as e:\n",
        "    print(\"Error:\", e)\n"
      ],
      "metadata": {
        "colab": {
          "base_uri": "https://localhost:8080/"
        },
        "id": "k8Z_3dbz9H5W",
        "outputId": "74e2ed92-072e-4a12-c968-6b24476a18db"
      },
      "execution_count": 11,
      "outputs": [
        {
          "output_type": "stream",
          "name": "stdout",
          "text": [
            "Updated list: [10, 2, 3, 4]\n",
            "Error: 'tuple' object does not support item assignment\n"
          ]
        }
      ]
    },
    {
      "cell_type": "code",
      "source": [
        "#6.Write a function to demonstrate the behavior of mutable and immutable arguments.\n",
        "\n",
        "def demo(mutable, immutable):\n",
        "    mutable[0] = 100\n",
        "    print(\"Modified mutable:\", mutable)\n",
        "    try:\n",
        "        immutable[0] = \"X\"  # This will raise an error\n",
        "    except TypeError:\n",
        "        print(\"Cannot modify immutable argument:\", immutable)\n",
        "my_list = [1, 2, 3]\n",
        "my_string = \"Hello\"\n",
        "demo(my_list, my_string)\n",
        "print(\"List after function:\", my_list)\n",
        "print(\"String after function:\", my_string)\n"
      ],
      "metadata": {
        "colab": {
          "base_uri": "https://localhost:8080/"
        },
        "id": "DN5M3zbi9xKv",
        "outputId": "5e8e20de-f82f-4540-ba79-9d07927819fd"
      },
      "execution_count": 12,
      "outputs": [
        {
          "output_type": "stream",
          "name": "stdout",
          "text": [
            "Modified mutable: [100, 2, 3]\n",
            "Cannot modify immutable argument: Hello\n",
            "List after function: [100, 2, 3]\n",
            "String after function: Hello\n"
          ]
        }
      ]
    },
    {
      "cell_type": "code",
      "source": [
        "#8.Write a program to demonstrate the use of logical operators.\n",
        "\n",
        "x = 5\n",
        "y = 10\n",
        "z = 15\n",
        "if x < y and y < z:\n",
        "    print(\"Both conditions are True (x < y and y < z)\")\n",
        "if x > y or y < z:\n",
        "    print(\"At least one condition is True (x > y or y < z)\")\n",
        "if not x > y:\n",
        "    print(\"Condition is False (not x > y)\")\n"
      ],
      "metadata": {
        "colab": {
          "base_uri": "https://localhost:8080/"
        },
        "id": "xUpcg8lQ-YD4",
        "outputId": "4492f8c5-deda-4612-b38c-72a53f3c86c3"
      },
      "execution_count": 13,
      "outputs": [
        {
          "output_type": "stream",
          "name": "stdout",
          "text": [
            "Both conditions are True (x < y and y < z)\n",
            "At least one condition is True (x > y or y < z)\n",
            "Condition is False (not x > y)\n"
          ]
        }
      ]
    },
    {
      "cell_type": "code",
      "source": [
        "#9.Write a Python program to convert user input from string to integer, float, and boolean types.\n",
        "\n",
        "user_input = input(\"Enter a value: \")\n",
        "integer_value = int(user_input)\n",
        "print(\"Integer:\", integer_value)\n",
        "float_value = float(user_input)\n",
        "print(\"Float:\", float_value)\n",
        "boolean_value = bool(user_input)\n",
        "print(\"Boolean:\", boolean_value)\n"
      ],
      "metadata": {
        "colab": {
          "base_uri": "https://localhost:8080/"
        },
        "id": "CH7aNJUV-4TS",
        "outputId": "251ed951-e5de-495f-dfe9-3acf375b13ac"
      },
      "execution_count": 14,
      "outputs": [
        {
          "output_type": "stream",
          "name": "stdout",
          "text": [
            "Enter a value: 123\n",
            "Integer: 123\n",
            "Float: 123.0\n",
            "Boolean: True\n"
          ]
        }
      ]
    },
    {
      "cell_type": "code",
      "source": [
        "#10.Write code to demonstrate type casting with list elements.\n",
        "\n",
        "my_list = [\"1\", \"2\", \"3\", \"4.5\", \"True\"]\n",
        "int_list = [int(x) if x.isdigit() else float(x) if '.' in x else x for x in my_list]\n",
        "bool_list = [bool(x) if isinstance(x, str) else x for x in int_list]\n",
        "print(\"Original list:\", my_list)\n",
        "print(\"List after type casting:\", bool_list)\n"
      ],
      "metadata": {
        "colab": {
          "base_uri": "https://localhost:8080/"
        },
        "id": "WXlHnemK_XMQ",
        "outputId": "5bc1a21b-ec23-47f2-ab28-1126626e859c"
      },
      "execution_count": 15,
      "outputs": [
        {
          "output_type": "stream",
          "name": "stdout",
          "text": [
            "Original list: ['1', '2', '3', '4.5', 'True']\n",
            "List after type casting: [1, 2, 3, 4.5, True]\n"
          ]
        }
      ]
    },
    {
      "cell_type": "code",
      "source": [
        "#11.Write a program that checks if a number is positive, negative, or zero.\n",
        "\n",
        "num = float(input(\"Enter a number: \"))\n",
        "if num > 0:\n",
        "    print(\"The number is positive.\")\n",
        "elif num < 0:\n",
        "    print(\"The number is negative.\")\n",
        "else:\n",
        "    print(\"The number is zero.\")\n"
      ],
      "metadata": {
        "colab": {
          "base_uri": "https://localhost:8080/"
        },
        "id": "Ew3q4Ecc_rIU",
        "outputId": "46196f4c-6404-4f0c-a0fd-335aeadad091"
      },
      "execution_count": 16,
      "outputs": [
        {
          "output_type": "stream",
          "name": "stdout",
          "text": [
            "Enter a number: -99\n",
            "The number is negative.\n"
          ]
        }
      ]
    },
    {
      "cell_type": "code",
      "source": [
        "#12.Write a for loop to print numbers from 1 to 10.\n",
        "for i in range(1, 11):\n",
        "    print(i)\n"
      ],
      "metadata": {
        "colab": {
          "base_uri": "https://localhost:8080/"
        },
        "id": "7NO55jzm_8aY",
        "outputId": "bb53bf2f-09b9-44f8-abf1-64d0c6a224a0"
      },
      "execution_count": 17,
      "outputs": [
        {
          "output_type": "stream",
          "name": "stdout",
          "text": [
            "1\n",
            "2\n",
            "3\n",
            "4\n",
            "5\n",
            "6\n",
            "7\n",
            "8\n",
            "9\n",
            "10\n"
          ]
        }
      ]
    },
    {
      "cell_type": "code",
      "source": [
        "#13.Write a Python program to find the sum of all even numbers between 1 and 50.\n",
        "\n",
        "sum = 0\n",
        "for num in range(2, 51, 2):\n",
        "    sum += num\n",
        "print(\"Sum of all even numbers between 1 and 50:\", sum)\n"
      ],
      "metadata": {
        "colab": {
          "base_uri": "https://localhost:8080/"
        },
        "id": "Tx1EJwjdAL8D",
        "outputId": "81216039-8c2c-49ba-e340-70949d118829"
      },
      "execution_count": 18,
      "outputs": [
        {
          "output_type": "stream",
          "name": "stdout",
          "text": [
            "Sum of all even numbers between 1 and 50: 650\n"
          ]
        }
      ]
    },
    {
      "cell_type": "code",
      "source": [
        "#14.Write a program to reverse a string using a while loop.\n",
        "\n",
        "string = input(\"Enter a string: \")\n",
        "reversed_string = \"\"\n",
        "index = len(string) - 1\n",
        "while index >= 0:\n",
        "    reversed_string += string[index]\n",
        "    index -= 1\n",
        "print(\"Reversed string:\", reversed_string)\n"
      ],
      "metadata": {
        "colab": {
          "base_uri": "https://localhost:8080/"
        },
        "id": "o1D-g3TGAgLQ",
        "outputId": "cbfdf202-9654-4bd8-d637-4a9b7e042733"
      },
      "execution_count": 19,
      "outputs": [
        {
          "output_type": "stream",
          "name": "stdout",
          "text": [
            "Enter a string: Jitendra\n",
            "Reversed string: ardnetiJ\n"
          ]
        }
      ]
    },
    {
      "cell_type": "code",
      "source": [
        "#15.Write a Python program to calculate the factorial of a number provided by the user using a while loop.\n",
        "\n",
        "num = int(input(\"Enter a number: \"))\n",
        "factorial = 1\n",
        "i = 1\n",
        "while i <= num:\n",
        "    factorial *= i\n",
        "    i += 1\n",
        "print(f\"Factorial of {num} is {factorial}\")\n"
      ],
      "metadata": {
        "colab": {
          "base_uri": "https://localhost:8080/"
        },
        "id": "8TJXm4BgA8cA",
        "outputId": "dec8a5d4-b30d-495b-a1c9-c7a1a07776d4"
      },
      "execution_count": 20,
      "outputs": [
        {
          "output_type": "stream",
          "name": "stdout",
          "text": [
            "Enter a number: 5\n",
            "Factorial of 5 is 120\n"
          ]
        }
      ]
    }
  ]
}